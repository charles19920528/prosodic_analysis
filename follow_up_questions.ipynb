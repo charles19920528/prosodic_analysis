{
 "cells": [
  {
   "cell_type": "code",
   "execution_count": 1,
   "id": "e82c0c4c",
   "metadata": {},
   "outputs": [],
   "source": [
    "import pandas as pd\n",
    "import numpy as np\n",
    "from sklearn.cluster import KMeans\n",
    "from sklearn.decomposition import PCA\n",
    "import cluster\n",
    "import matplotlib.pyplot as plt\n",
    "from scipy.spatial import distance\n",
    "from mpl_toolkits.mplot3d import Axes3D\n",
    "pd.options.display.max_rows = 4000"
   ]
  },
  {
   "cell_type": "code",
   "execution_count": 2,
   "id": "f299990c",
   "metadata": {},
   "outputs": [],
   "source": [
    "data = pd.read_csv(\"data/data_for_analysis.csv\")\n",
    "# Remove sign\n",
    "data['IntensityMeanAbsVelocity'] = np.abs(data['IntensityMeanAbsVelocity'])"
   ]
  },
  {
   "cell_type": "code",
   "execution_count": 3,
   "id": "070c3980",
   "metadata": {},
   "outputs": [
    {
     "data": {
      "text/html": [
       "<div>\n",
       "<style scoped>\n",
       "    .dataframe tbody tr th:only-of-type {\n",
       "        vertical-align: middle;\n",
       "    }\n",
       "\n",
       "    .dataframe tbody tr th {\n",
       "        vertical-align: top;\n",
       "    }\n",
       "\n",
       "    .dataframe thead th {\n",
       "        text-align: right;\n",
       "    }\n",
       "</style>\n",
       "<table border=\"1\" class=\"dataframe\">\n",
       "  <thead>\n",
       "    <tr style=\"text-align: right;\">\n",
       "      <th></th>\n",
       "      <th>author_last_name</th>\n",
       "      <th>author_first_name</th>\n",
       "      <th>birth_year</th>\n",
       "      <th>spoken_word</th>\n",
       "      <th>cave_canem_indicator</th>\n",
       "      <th>region</th>\n",
       "      <th>city_of_birth</th>\n",
       "      <th>state</th>\n",
       "      <th>country</th>\n",
       "      <th>childhood_note</th>\n",
       "      <th>...</th>\n",
       "      <th>PauseRate</th>\n",
       "      <th>PauseDutyCycle</th>\n",
       "      <th>MeanPauseDuration</th>\n",
       "      <th>ComplexityAllPauses</th>\n",
       "      <th>ComplexitySyllables</th>\n",
       "      <th>ComplexityPhrases</th>\n",
       "      <th>IntensitySegmentMeanSD</th>\n",
       "      <th>IntensityMeanAbsVelocity</th>\n",
       "      <th>IntensityMeanAbsAccel</th>\n",
       "      <th>poet_full_name</th>\n",
       "    </tr>\n",
       "  </thead>\n",
       "  <tbody>\n",
       "    <tr>\n",
       "      <th>0</th>\n",
       "      <td>Adams</td>\n",
       "      <td>Samantha</td>\n",
       "      <td>1996</td>\n",
       "      <td>False</td>\n",
       "      <td>False</td>\n",
       "      <td>Midwest</td>\n",
       "      <td>NaN</td>\n",
       "      <td>Wisconsin</td>\n",
       "      <td>NaN</td>\n",
       "      <td>NaN</td>\n",
       "      <td>...</td>\n",
       "      <td>1.346801</td>\n",
       "      <td>0.487093</td>\n",
       "      <td>0.361667</td>\n",
       "      <td>9.739216</td>\n",
       "      <td>15.261978</td>\n",
       "      <td>4.193274</td>\n",
       "      <td>13.801149</td>\n",
       "      <td>149.186800</td>\n",
       "      <td>120.134374</td>\n",
       "      <td>Adams Samantha</td>\n",
       "    </tr>\n",
       "    <tr>\n",
       "      <th>1</th>\n",
       "      <td>Adams</td>\n",
       "      <td>Samantha</td>\n",
       "      <td>1996</td>\n",
       "      <td>False</td>\n",
       "      <td>False</td>\n",
       "      <td>Midwest</td>\n",
       "      <td>NaN</td>\n",
       "      <td>Wisconsin</td>\n",
       "      <td>NaN</td>\n",
       "      <td>NaN</td>\n",
       "      <td>...</td>\n",
       "      <td>0.826322</td>\n",
       "      <td>0.400841</td>\n",
       "      <td>0.485091</td>\n",
       "      <td>6.404722</td>\n",
       "      <td>14.183274</td>\n",
       "      <td>3.091935</td>\n",
       "      <td>14.306229</td>\n",
       "      <td>159.312214</td>\n",
       "      <td>132.202711</td>\n",
       "      <td>Adams Samantha</td>\n",
       "    </tr>\n",
       "    <tr>\n",
       "      <th>2</th>\n",
       "      <td>Adisa</td>\n",
       "      <td>Opal Palmer</td>\n",
       "      <td>1954</td>\n",
       "      <td>False</td>\n",
       "      <td>True</td>\n",
       "      <td>Caribbean</td>\n",
       "      <td>Kingston</td>\n",
       "      <td>NaN</td>\n",
       "      <td>Jamaica</td>\n",
       "      <td>came to US at age 15 and attended high school ...</td>\n",
       "      <td>...</td>\n",
       "      <td>0.607203</td>\n",
       "      <td>0.268844</td>\n",
       "      <td>0.442759</td>\n",
       "      <td>5.259354</td>\n",
       "      <td>12.131653</td>\n",
       "      <td>2.768081</td>\n",
       "      <td>3.458940</td>\n",
       "      <td>191.883661</td>\n",
       "      <td>196.840812</td>\n",
       "      <td>Adisa Opal Palmer</td>\n",
       "    </tr>\n",
       "    <tr>\n",
       "      <th>3</th>\n",
       "      <td>Adisa</td>\n",
       "      <td>Opal Palmer</td>\n",
       "      <td>1954</td>\n",
       "      <td>False</td>\n",
       "      <td>True</td>\n",
       "      <td>Caribbean</td>\n",
       "      <td>Kingston</td>\n",
       "      <td>NaN</td>\n",
       "      <td>Jamaica</td>\n",
       "      <td>came to US at age 15 and attended high school ...</td>\n",
       "      <td>...</td>\n",
       "      <td>0.921430</td>\n",
       "      <td>0.281922</td>\n",
       "      <td>0.305962</td>\n",
       "      <td>6.968303</td>\n",
       "      <td>13.079815</td>\n",
       "      <td>2.672056</td>\n",
       "      <td>4.096043</td>\n",
       "      <td>277.537265</td>\n",
       "      <td>305.414392</td>\n",
       "      <td>Adisa Opal Palmer</td>\n",
       "    </tr>\n",
       "    <tr>\n",
       "      <th>4</th>\n",
       "      <td>Alexander</td>\n",
       "      <td>Elizabeth</td>\n",
       "      <td>1962</td>\n",
       "      <td>False</td>\n",
       "      <td>True</td>\n",
       "      <td>Northeast</td>\n",
       "      <td>Harlem</td>\n",
       "      <td>New York</td>\n",
       "      <td>USA</td>\n",
       "      <td>grew up in Washington, D.C.</td>\n",
       "      <td>...</td>\n",
       "      <td>0.692450</td>\n",
       "      <td>0.252505</td>\n",
       "      <td>0.364654</td>\n",
       "      <td>5.517232</td>\n",
       "      <td>13.599243</td>\n",
       "      <td>2.288253</td>\n",
       "      <td>3.513307</td>\n",
       "      <td>205.459264</td>\n",
       "      <td>210.177286</td>\n",
       "      <td>Alexander Elizabeth</td>\n",
       "    </tr>\n",
       "  </tbody>\n",
       "</table>\n",
       "<p>5 rows × 44 columns</p>\n",
       "</div>"
      ],
      "text/plain": [
       "  author_last_name author_first_name  birth_year  spoken_word  \\\n",
       "0            Adams          Samantha        1996        False   \n",
       "1            Adams          Samantha        1996        False   \n",
       "2            Adisa       Opal Palmer        1954        False   \n",
       "3            Adisa       Opal Palmer        1954        False   \n",
       "4        Alexander         Elizabeth        1962        False   \n",
       "\n",
       "   cave_canem_indicator     region city_of_birth      state   country  \\\n",
       "0                 False    Midwest           NaN  Wisconsin       NaN   \n",
       "1                 False    Midwest           NaN  Wisconsin       NaN   \n",
       "2                  True  Caribbean      Kingston        NaN  Jamaica    \n",
       "3                  True  Caribbean      Kingston        NaN  Jamaica    \n",
       "4                  True  Northeast        Harlem   New York       USA   \n",
       "\n",
       "                                      childhood_note  ...  PauseRate  \\\n",
       "0                                                NaN  ...   1.346801   \n",
       "1                                                NaN  ...   0.826322   \n",
       "2  came to US at age 15 and attended high school ...  ...   0.607203   \n",
       "3  came to US at age 15 and attended high school ...  ...   0.921430   \n",
       "4                       grew up in Washington, D.C.   ...   0.692450   \n",
       "\n",
       "   PauseDutyCycle  MeanPauseDuration  ComplexityAllPauses  \\\n",
       "0        0.487093           0.361667             9.739216   \n",
       "1        0.400841           0.485091             6.404722   \n",
       "2        0.268844           0.442759             5.259354   \n",
       "3        0.281922           0.305962             6.968303   \n",
       "4        0.252505           0.364654             5.517232   \n",
       "\n",
       "   ComplexitySyllables  ComplexityPhrases IntensitySegmentMeanSD  \\\n",
       "0            15.261978           4.193274              13.801149   \n",
       "1            14.183274           3.091935              14.306229   \n",
       "2            12.131653           2.768081               3.458940   \n",
       "3            13.079815           2.672056               4.096043   \n",
       "4            13.599243           2.288253               3.513307   \n",
       "\n",
       "  IntensityMeanAbsVelocity IntensityMeanAbsAccel       poet_full_name  \n",
       "0               149.186800            120.134374       Adams Samantha  \n",
       "1               159.312214            132.202711       Adams Samantha  \n",
       "2               191.883661            196.840812    Adisa Opal Palmer  \n",
       "3               277.537265            305.414392    Adisa Opal Palmer  \n",
       "4               205.459264            210.177286  Alexander Elizabeth  \n",
       "\n",
       "[5 rows x 44 columns]"
      ]
     },
     "execution_count": 3,
     "metadata": {},
     "output_type": "execute_result"
    }
   ],
   "source": [
    "data.head()"
   ]
  },
  {
   "cell_type": "code",
   "execution_count": 4,
   "id": "6baff7e7",
   "metadata": {},
   "outputs": [
    {
     "data": {
      "text/plain": [
       "Index(['author_last_name', 'author_first_name', 'birth_year', 'spoken_word',\n",
       "       'cave_canem_indicator', 'region', 'city_of_birth', 'state', 'country',\n",
       "       'childhood_note', 'undergrad_study_indicator',\n",
       "       'graduate_study_indicator', 'iowa_mfa?', 'public_private_indicator',\n",
       "       'Ivy', 'hbcu', 'year_of_recording', 'recording', 'source_of_recording',\n",
       "       'cave_canem_indicator.1', 'poet_laureate', 'major_award', 'venue_type',\n",
       "       'slam_(1)_or_not_(0)?', 'venue', 'poem_title', 'urls', 'f0Mean',\n",
       "       'Dynamism', 'f0Range2sd', 'f0Entropy', 'f0MeanAbsVelocity',\n",
       "       'f0MeanAbsAccel', 'PauseCount', 'PauseRate', 'PauseDutyCycle',\n",
       "       'MeanPauseDuration', 'ComplexityAllPauses', 'ComplexitySyllables',\n",
       "       'ComplexityPhrases', 'IntensitySegmentMeanSD',\n",
       "       'IntensityMeanAbsVelocity', 'IntensityMeanAbsAccel', 'poet_full_name'],\n",
       "      dtype='object')"
      ]
     },
     "execution_count": 4,
     "metadata": {},
     "output_type": "execute_result"
    }
   ],
   "source": [
    "data.columns"
   ]
  },
  {
   "cell_type": "markdown",
   "id": "9e86b2dc",
   "metadata": {},
   "source": [
    "# Major Award | Spoken Word"
   ]
  },
  {
   "cell_type": "markdown",
   "id": "43dbd5bc",
   "metadata": {},
   "source": [
    "## Contingency Table"
   ]
  },
  {
   "cell_type": "code",
   "execution_count": 5,
   "id": "b471c1be",
   "metadata": {},
   "outputs": [
    {
     "data": {
      "text/html": [
       "<div>\n",
       "<style scoped>\n",
       "    .dataframe tbody tr th:only-of-type {\n",
       "        vertical-align: middle;\n",
       "    }\n",
       "\n",
       "    .dataframe tbody tr th {\n",
       "        vertical-align: top;\n",
       "    }\n",
       "\n",
       "    .dataframe thead th {\n",
       "        text-align: right;\n",
       "    }\n",
       "</style>\n",
       "<table border=\"1\" class=\"dataframe\">\n",
       "  <thead>\n",
       "    <tr style=\"text-align: right;\">\n",
       "      <th>major_award</th>\n",
       "      <th>0</th>\n",
       "      <th>1</th>\n",
       "      <th>All</th>\n",
       "    </tr>\n",
       "    <tr>\n",
       "      <th>spoken_word</th>\n",
       "      <th></th>\n",
       "      <th></th>\n",
       "      <th></th>\n",
       "    </tr>\n",
       "  </thead>\n",
       "  <tbody>\n",
       "    <tr>\n",
       "      <th>False</th>\n",
       "      <td>76</td>\n",
       "      <td>50</td>\n",
       "      <td>126</td>\n",
       "    </tr>\n",
       "    <tr>\n",
       "      <th>True</th>\n",
       "      <td>61</td>\n",
       "      <td>16</td>\n",
       "      <td>77</td>\n",
       "    </tr>\n",
       "    <tr>\n",
       "      <th>All</th>\n",
       "      <td>137</td>\n",
       "      <td>66</td>\n",
       "      <td>203</td>\n",
       "    </tr>\n",
       "  </tbody>\n",
       "</table>\n",
       "</div>"
      ],
      "text/plain": [
       "major_award    0   1  All\n",
       "spoken_word              \n",
       "False         76  50  126\n",
       "True          61  16   77\n",
       "All          137  66  203"
      ]
     },
     "execution_count": 5,
     "metadata": {},
     "output_type": "execute_result"
    }
   ],
   "source": [
    "pd.crosstab(data[\"spoken_word\"], data[\"major_award\"], margins=True)"
   ]
  },
  {
   "cell_type": "markdown",
   "id": "e9f561a7",
   "metadata": {},
   "source": [
    "## P(Major Award | Spoken Word)"
   ]
  },
  {
   "cell_type": "code",
   "execution_count": 6,
   "id": "94f9e7c6",
   "metadata": {},
   "outputs": [
    {
     "data": {
      "text/html": [
       "<div>\n",
       "<style scoped>\n",
       "    .dataframe tbody tr th:only-of-type {\n",
       "        vertical-align: middle;\n",
       "    }\n",
       "\n",
       "    .dataframe tbody tr th {\n",
       "        vertical-align: top;\n",
       "    }\n",
       "\n",
       "    .dataframe thead th {\n",
       "        text-align: right;\n",
       "    }\n",
       "</style>\n",
       "<table border=\"1\" class=\"dataframe\">\n",
       "  <thead>\n",
       "    <tr style=\"text-align: right;\">\n",
       "      <th>major_award</th>\n",
       "      <th>0</th>\n",
       "      <th>1</th>\n",
       "    </tr>\n",
       "    <tr>\n",
       "      <th>spoken_word</th>\n",
       "      <th></th>\n",
       "      <th></th>\n",
       "    </tr>\n",
       "  </thead>\n",
       "  <tbody>\n",
       "    <tr>\n",
       "      <th>False</th>\n",
       "      <td>0.603175</td>\n",
       "      <td>0.396825</td>\n",
       "    </tr>\n",
       "    <tr>\n",
       "      <th>True</th>\n",
       "      <td>0.792208</td>\n",
       "      <td>0.207792</td>\n",
       "    </tr>\n",
       "  </tbody>\n",
       "</table>\n",
       "</div>"
      ],
      "text/plain": [
       "major_award         0         1\n",
       "spoken_word                    \n",
       "False        0.603175  0.396825\n",
       "True         0.792208  0.207792"
      ]
     },
     "execution_count": 6,
     "metadata": {},
     "output_type": "execute_result"
    }
   ],
   "source": [
    "condtional_probability_df = pd.crosstab(data[\"spoken_word\"], data[\"major_award\"], normalize=\"index\")\n",
    "condtional_probability_df"
   ]
  },
  {
   "cell_type": "code",
   "execution_count": 7,
   "id": "bf057e11",
   "metadata": {},
   "outputs": [
    {
     "data": {
      "text/plain": [
       "0.5555555555555556"
      ]
     },
     "execution_count": 7,
     "metadata": {},
     "output_type": "execute_result"
    }
   ],
   "source": [
    "# Sanity check\n",
    "65 / 117"
   ]
  },
  {
   "cell_type": "markdown",
   "id": "5b24ad2d",
   "metadata": {},
   "source": [
    "## Odds of Winning Major Award Condition on Spoken Word\n",
    "First row: $P(award = 1 | word = 0) / P(award = 0 | word = 0)$.\n",
    "\n",
    "Second row: $P(award = 1 | word = 1) / P(award = 0 | word = 1)$."
   ]
  },
  {
   "cell_type": "code",
   "execution_count": 8,
   "id": "316e46b8",
   "metadata": {},
   "outputs": [
    {
     "data": {
      "text/plain": [
       "spoken_word\n",
       "False    0.657895\n",
       "True     0.262295\n",
       "dtype: float64"
      ]
     },
     "execution_count": 8,
     "metadata": {},
     "output_type": "execute_result"
    }
   ],
   "source": [
    "condtional_probability_df[1] / condtional_probability_df[0]"
   ]
  },
  {
   "cell_type": "markdown",
   "id": "7775dce9",
   "metadata": {},
   "source": [
    "## Odds Ratio ($OR$)\n",
    "The odds ratio is literally the ratio of odds we just compute. However, it isn't easy to interpret as it appears.\n",
    "Some folks (especially those in public health/epidemiology) like to use the odds ratio to measure correlations between the treatment and outcome. \n",
    "Odds Ratio compares the odds of outcome (award) when the treatment (Spoken Word) moves from exposed to unexposed. \n",
    "When $OR = 1$, the odds of different outcomes stay the same regardless of the outcome. So there is no association. \n",
    "When $OR$ is either close to 0 or much larger than 1, there is a strong association between the treatment and outcome."
   ]
  },
  {
   "cell_type": "code",
   "execution_count": 9,
   "id": "2d82518f",
   "metadata": {},
   "outputs": [
    {
     "data": {
      "text/plain": [
       "0.25"
      ]
     },
     "execution_count": 9,
     "metadata": {},
     "output_type": "execute_result"
    }
   ],
   "source": [
    "0.2 / 0.8"
   ]
  },
  {
   "cell_type": "markdown",
   "id": "e59bc8fe",
   "metadata": {},
   "source": [
    "# Major Award | Ivy League"
   ]
  },
  {
   "cell_type": "code",
   "execution_count": 10,
   "id": "8991c74c",
   "metadata": {},
   "outputs": [
    {
     "data": {
      "text/html": [
       "<div>\n",
       "<style scoped>\n",
       "    .dataframe tbody tr th:only-of-type {\n",
       "        vertical-align: middle;\n",
       "    }\n",
       "\n",
       "    .dataframe tbody tr th {\n",
       "        vertical-align: top;\n",
       "    }\n",
       "\n",
       "    .dataframe thead th {\n",
       "        text-align: right;\n",
       "    }\n",
       "</style>\n",
       "<table border=\"1\" class=\"dataframe\">\n",
       "  <thead>\n",
       "    <tr style=\"text-align: right;\">\n",
       "      <th>major_award</th>\n",
       "      <th>0</th>\n",
       "      <th>1</th>\n",
       "      <th>All</th>\n",
       "    </tr>\n",
       "    <tr>\n",
       "      <th>Ivy</th>\n",
       "      <th></th>\n",
       "      <th></th>\n",
       "      <th></th>\n",
       "    </tr>\n",
       "  </thead>\n",
       "  <tbody>\n",
       "    <tr>\n",
       "      <th>0.0</th>\n",
       "      <td>111</td>\n",
       "      <td>48</td>\n",
       "      <td>159</td>\n",
       "    </tr>\n",
       "    <tr>\n",
       "      <th>1.0</th>\n",
       "      <td>23</td>\n",
       "      <td>17</td>\n",
       "      <td>40</td>\n",
       "    </tr>\n",
       "    <tr>\n",
       "      <th>All</th>\n",
       "      <td>134</td>\n",
       "      <td>65</td>\n",
       "      <td>199</td>\n",
       "    </tr>\n",
       "  </tbody>\n",
       "</table>\n",
       "</div>"
      ],
      "text/plain": [
       "major_award    0   1  All\n",
       "Ivy                      \n",
       "0.0          111  48  159\n",
       "1.0           23  17   40\n",
       "All          134  65  199"
      ]
     },
     "execution_count": 10,
     "metadata": {},
     "output_type": "execute_result"
    }
   ],
   "source": [
    "pd.crosstab(data[\"Ivy\"], data[\"major_award\"], margins=True)"
   ]
  },
  {
   "cell_type": "code",
   "execution_count": 11,
   "id": "e9079ffa",
   "metadata": {},
   "outputs": [
    {
     "data": {
      "text/html": [
       "<div>\n",
       "<style scoped>\n",
       "    .dataframe tbody tr th:only-of-type {\n",
       "        vertical-align: middle;\n",
       "    }\n",
       "\n",
       "    .dataframe tbody tr th {\n",
       "        vertical-align: top;\n",
       "    }\n",
       "\n",
       "    .dataframe thead th {\n",
       "        text-align: right;\n",
       "    }\n",
       "</style>\n",
       "<table border=\"1\" class=\"dataframe\">\n",
       "  <thead>\n",
       "    <tr style=\"text-align: right;\">\n",
       "      <th>major_award</th>\n",
       "      <th>0</th>\n",
       "      <th>1</th>\n",
       "    </tr>\n",
       "    <tr>\n",
       "      <th>Ivy</th>\n",
       "      <th></th>\n",
       "      <th></th>\n",
       "    </tr>\n",
       "  </thead>\n",
       "  <tbody>\n",
       "    <tr>\n",
       "      <th>0.0</th>\n",
       "      <td>0.698113</td>\n",
       "      <td>0.301887</td>\n",
       "    </tr>\n",
       "    <tr>\n",
       "      <th>1.0</th>\n",
       "      <td>0.575000</td>\n",
       "      <td>0.425000</td>\n",
       "    </tr>\n",
       "  </tbody>\n",
       "</table>\n",
       "</div>"
      ],
      "text/plain": [
       "major_award         0         1\n",
       "Ivy                            \n",
       "0.0          0.698113  0.301887\n",
       "1.0          0.575000  0.425000"
      ]
     },
     "execution_count": 11,
     "metadata": {},
     "output_type": "execute_result"
    }
   ],
   "source": [
    "condtional_probability_df = pd.crosstab(data[\"Ivy\"], data[\"major_award\"], normalize=\"index\")\n",
    "condtional_probability_df"
   ]
  },
  {
   "cell_type": "code",
   "execution_count": 12,
   "id": "2186156a",
   "metadata": {},
   "outputs": [
    {
     "data": {
      "text/plain": [
       "Ivy\n",
       "0.0    0.432432\n",
       "1.0    0.739130\n",
       "dtype: float64"
      ]
     },
     "execution_count": 12,
     "metadata": {},
     "output_type": "execute_result"
    }
   ],
   "source": [
    "# Odds\n",
    "condtional_probability_df[1] / condtional_probability_df[0]"
   ]
  },
  {
   "cell_type": "code",
   "execution_count": 13,
   "id": "fc0e43a4",
   "metadata": {},
   "outputs": [
    {
     "data": {
      "text/plain": [
       "1.678440936764108"
      ]
     },
     "execution_count": 13,
     "metadata": {},
     "output_type": "execute_result"
    }
   ],
   "source": [
    "# Odds ratio\n",
    "0.739130 / 0.440367"
   ]
  },
  {
   "cell_type": "markdown",
   "id": "8fb32f47",
   "metadata": {},
   "source": [
    "# Major Award | Cave Canem"
   ]
  },
  {
   "cell_type": "code",
   "execution_count": 14,
   "id": "e94550a6",
   "metadata": {},
   "outputs": [
    {
     "data": {
      "text/html": [
       "<div>\n",
       "<style scoped>\n",
       "    .dataframe tbody tr th:only-of-type {\n",
       "        vertical-align: middle;\n",
       "    }\n",
       "\n",
       "    .dataframe tbody tr th {\n",
       "        vertical-align: top;\n",
       "    }\n",
       "\n",
       "    .dataframe thead th {\n",
       "        text-align: right;\n",
       "    }\n",
       "</style>\n",
       "<table border=\"1\" class=\"dataframe\">\n",
       "  <thead>\n",
       "    <tr style=\"text-align: right;\">\n",
       "      <th>major_award</th>\n",
       "      <th>0</th>\n",
       "      <th>1</th>\n",
       "      <th>All</th>\n",
       "    </tr>\n",
       "    <tr>\n",
       "      <th>cave_canem_indicator</th>\n",
       "      <th></th>\n",
       "      <th></th>\n",
       "      <th></th>\n",
       "    </tr>\n",
       "  </thead>\n",
       "  <tbody>\n",
       "    <tr>\n",
       "      <th>False</th>\n",
       "      <td>79</td>\n",
       "      <td>20</td>\n",
       "      <td>99</td>\n",
       "    </tr>\n",
       "    <tr>\n",
       "      <th>True</th>\n",
       "      <td>58</td>\n",
       "      <td>46</td>\n",
       "      <td>104</td>\n",
       "    </tr>\n",
       "    <tr>\n",
       "      <th>All</th>\n",
       "      <td>137</td>\n",
       "      <td>66</td>\n",
       "      <td>203</td>\n",
       "    </tr>\n",
       "  </tbody>\n",
       "</table>\n",
       "</div>"
      ],
      "text/plain": [
       "major_award             0   1  All\n",
       "cave_canem_indicator              \n",
       "False                  79  20   99\n",
       "True                   58  46  104\n",
       "All                   137  66  203"
      ]
     },
     "execution_count": 14,
     "metadata": {},
     "output_type": "execute_result"
    }
   ],
   "source": [
    "pd.crosstab(data[\"cave_canem_indicator\"], data[\"major_award\"], margins=True)"
   ]
  },
  {
   "cell_type": "code",
   "execution_count": 15,
   "id": "fad68a86",
   "metadata": {},
   "outputs": [
    {
     "data": {
      "text/html": [
       "<div>\n",
       "<style scoped>\n",
       "    .dataframe tbody tr th:only-of-type {\n",
       "        vertical-align: middle;\n",
       "    }\n",
       "\n",
       "    .dataframe tbody tr th {\n",
       "        vertical-align: top;\n",
       "    }\n",
       "\n",
       "    .dataframe thead th {\n",
       "        text-align: right;\n",
       "    }\n",
       "</style>\n",
       "<table border=\"1\" class=\"dataframe\">\n",
       "  <thead>\n",
       "    <tr style=\"text-align: right;\">\n",
       "      <th>major_award</th>\n",
       "      <th>0</th>\n",
       "      <th>1</th>\n",
       "    </tr>\n",
       "    <tr>\n",
       "      <th>cave_canem_indicator</th>\n",
       "      <th></th>\n",
       "      <th></th>\n",
       "    </tr>\n",
       "  </thead>\n",
       "  <tbody>\n",
       "    <tr>\n",
       "      <th>False</th>\n",
       "      <td>0.797980</td>\n",
       "      <td>0.202020</td>\n",
       "    </tr>\n",
       "    <tr>\n",
       "      <th>True</th>\n",
       "      <td>0.557692</td>\n",
       "      <td>0.442308</td>\n",
       "    </tr>\n",
       "  </tbody>\n",
       "</table>\n",
       "</div>"
      ],
      "text/plain": [
       "major_award                  0         1\n",
       "cave_canem_indicator                    \n",
       "False                 0.797980  0.202020\n",
       "True                  0.557692  0.442308"
      ]
     },
     "execution_count": 15,
     "metadata": {},
     "output_type": "execute_result"
    }
   ],
   "source": [
    "condtional_probability_df = pd.crosstab(data[\"cave_canem_indicator\"], data[\"major_award\"], normalize=\"index\")\n",
    "condtional_probability_df"
   ]
  },
  {
   "cell_type": "code",
   "execution_count": 16,
   "id": "92bae5bb",
   "metadata": {},
   "outputs": [
    {
     "data": {
      "text/plain": [
       "cave_canem_indicator\n",
       "False    0.253165\n",
       "True     0.793103\n",
       "dtype: float64"
      ]
     },
     "execution_count": 16,
     "metadata": {},
     "output_type": "execute_result"
    }
   ],
   "source": [
    "condtional_probability_df[1] / condtional_probability_df[0]"
   ]
  },
  {
   "cell_type": "code",
   "execution_count": 17,
   "id": "c3c4c915",
   "metadata": {},
   "outputs": [
    {
     "data": {
      "text/plain": [
       "3.0534496034496033"
      ]
     },
     "execution_count": 17,
     "metadata": {},
     "output_type": "execute_result"
    }
   ],
   "source": [
    "# Odds ratio\n",
    "0.793103 / 0.259740"
   ]
  },
  {
   "cell_type": "markdown",
   "id": "45ff2db9",
   "metadata": {},
   "source": [
    "# Correlations?\n",
    "We can construct confidence intervals for these $OR$'s, but that would require careful deliberation over the relationship between these factors and the causal graph. Otherwise, we may introduce different kinds of bias. Furthermore, controlling bias is not as simple as controlling as many factors (throw all the factors into a logistic regression model) as we can think of. See the following link if you would like some references.\n",
    "https://catalogofbias.org/biases/collider-bias/ \n",
    "I don't think we should go down the rabbit hole in this paper.\n",
    "\n",
    "My suggestion is that since the odds ratio seems to be \"far\" away from 1, we can say \"the $OR$ suggests that xxx factor could be correlated with the chance of getting major awards.\" It's fair to say that these $OR$'s indicate that the relationship between these factors and outcomes are worth studying."
   ]
  },
  {
   "cell_type": "code",
   "execution_count": null,
   "id": "8ec352b3",
   "metadata": {},
   "outputs": [],
   "source": []
  }
 ],
 "metadata": {
  "kernelspec": {
   "display_name": "Python 3",
   "language": "python",
   "name": "python3"
  },
  "language_info": {
   "codemirror_mode": {
    "name": "ipython",
    "version": 3
   },
   "file_extension": ".py",
   "mimetype": "text/x-python",
   "name": "python",
   "nbconvert_exporter": "python",
   "pygments_lexer": "ipython3",
   "version": "3.7.3"
  }
 },
 "nbformat": 4,
 "nbformat_minor": 5
}
